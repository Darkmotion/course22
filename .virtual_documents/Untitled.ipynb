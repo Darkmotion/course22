#|default_export app


#|default_export app
import gradio as gr
from fastai.vision.all import *
def is_cat(x):
    return x[0].isupper()


#| export
learner = load_learner('model.pkl')


import PIL


img = PILImage.create('Cat03.jpg')
img.thumbnail((192,192))
label, idx, probs = learner.predict(img)


#| export
classes = ('Dog', 'Cat')
def predict(img):
    label, size, probs = learner.predict(img)
    return dict(zip(classes, map(float, probs)))



interface = gr.Interface(


help(gr.inputs.Image)



