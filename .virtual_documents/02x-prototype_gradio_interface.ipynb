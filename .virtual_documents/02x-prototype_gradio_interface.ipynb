#|default_exp app


#| export
import gradio as gr
from fastai.vision.all import *
def is_cat(x):
    return x[0].isupper()


#| export
learner = load_learner('model.pkl')


import PIL


img = PILImage.create('Cat03.jpg')
img.thumbnail((192,192))
label, idx, probs = learner.predict(img)


#| export
classes = ('Dog', 'Cat')
def predict(img):
    label, size, probs = learner.predict(img)
    return dict(zip(classes, map(float, probs)))



#| export
examples = ["Dog.jpg", "Cat.jpg", "Cat2.jpg", "dunno.jpg"]
interface = gr.Interface(fn=predict, inputs='image', outputs='label', examples=examples)
interface.launch()


from nbdev.export import nb_export


help(nb_export)


nb_export('02x-prototype_gradio_interface.ipynb')



