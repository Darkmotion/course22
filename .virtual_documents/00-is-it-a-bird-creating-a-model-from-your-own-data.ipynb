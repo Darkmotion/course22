


#NB: Kaggle requires phone verification to use the internet or a GPU. If you haven't done that yet, the cell below will fail
#    This code is only here to check that your internet is enabled. It doesn't do anything else.
#    Here's a help thread on getting your phone number verified: https://www.kaggle.com/product-feedback/135367

import socket,warnings
try:
    socket.setdefaulttimeout(1)
    socket.socket(socket.AF_INET, socket.SOCK_STREAM).connect(('1.1.1.1', 53))
except socket.error as ex: raise Exception("STOP: No internet. Click '>|' in top right and set 'Internet' switch to on")


# It's a good idea to ensure you're running the latest version of any libraries you need.
# `!pip install -Uqq <libraries>` upgrades to the latest version of <libraries>
# NB: You can safely ignore any warnings or errors pip spits out about running as root or incompatibilities
import os
iskaggle = os.environ.get('KAGGLE_KERNEL_RUN_TYPE', '')

if iskaggle:
    get_ipython().getoutput("pip install -Uqq fastai")














# Skip this cell if you already have duckduckgo_search installed
get_ipython().getoutput("pip install -Uqq duckduckgo_search")


#import fastbook
#from fastbook import *
from duckduckgo_search import DDGS
from fastcore.all import *

def search_images(term, max_images=200): return L(DDGS().images(term, max_results=max_images)).itemgot('image')





urls = search_images('2d catoon stillframe -video -facebook -journal -overview -godaddy', max_images=2)
urls[1]





from fastdownload import download_url
dest = '2dcartoon.jpg'
download_url(urls[1], dest, show_progress=False)

from fastai.vision.all import *
im = Image.open(dest)
im.to_thumb(256,256)





download_url(search_images('stopmotion stillframe -video -facebook -journal -overview -godaddy', max_images=1)[0], 'forest.jpg', show_progress=False)
Image.open('forest.jpg').to_thumb(256,256)





searches = 'VFX in film', 'stopmotion','2D cartoon', '3D cartoon',
path = Path('my_own_classifier')
from time import sleep
'''
for o in searches:
    dest = (path/o)
    dest.mkdir(exist_ok=True, parents=True)
    download_images(dest, urls=search_images(f'{o} stillframe -video -facebook -journal -overview -godaddy -youtube -thumbnail'))
    sleep(10)  # Pause between searches to avoid over-loading server
    download_images(dest, urls=search_images(f'{o} stillframe 90s -video -facebook -journal -overview -godaddy, -thumbnail'))
    sleep(10)
    download_images(dest, urls=search_images(f'{o} stillframe black and white -video -facebook -journal -overview -godaddy -thumbnail'))
    sleep(10)
    resize_images(path/o, max_size=400, dest=path/o)
'''








failed = verify_images(get_image_files(path))
failed.map(Path.unlink)
len(failed)





dls = DataBlock(
    blocks=(ImageBlock, CategoryBlock), 
    get_items=get_image_files, 
    splitter=RandomSplitter(valid_pct=0.2, seed=42),
    get_y=parent_label,
    item_tfms=[Resize(192, method='squish')]
).dataloaders(path)

dls.show_batch(max_n=6)








learn = vision_learner(dls, resnet18, metrics=error_rate)
learn.fine_tune(10)











label,_,probs = learn.predict(PILImage.create('forest.jpg'))
print(f"This is a: {label}.")
print(f"Probability it's a bird: {probs[0]:.4f}")









